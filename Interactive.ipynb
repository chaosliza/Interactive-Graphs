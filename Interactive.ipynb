{
 "cells": [
  {
   "cell_type": "code",
   "execution_count": 112,
   "metadata": {},
   "outputs": [],
   "source": [
    "import matplotlib.pyplot as plt\n",
    "import numpy as np\n",
    "from ipywidgets import Layout, Dropdown, Button, Output, Checkbox, Label\n",
    "from IPython.display import display, clear_output\n",
    "from __future__ import print_function\n",
    "import json\n",
    "from IPython.display import display\n",
    "from tools import simplify_smiles\n",
    "from ipywidgets import GridspecLayout"
   ]
  },
  {
   "cell_type": "code",
   "execution_count": 113,
   "metadata": {},
   "outputs": [],
   "source": [
    "# all data from CSD\n",
    "f = open(\"new_struct2torsion.json\")\n",
    "CCDC_torsions = json.load(f)\n",
    "\n",
    "f = open(\"new_struct2angle.json\")\n",
    "CCDC_angles = json.load(f)\n",
    "\n",
    "f = open(\"new_struct2bond.json\")\n",
    "CCDC_bonds = json.load(f)"
   ]
  },
  {
   "cell_type": "code",
   "execution_count": 114,
   "metadata": {},
   "outputs": [
    {
     "name": "stdout",
     "output_type": "stream",
     "text": [
      "14642, 56316\n"
     ]
    }
   ],
   "source": [
    "# clean up the CSD torsion smiles\n",
    "cleaned_CCDC_torsions = simplify_smiles(CCDC_torsions)\n",
    "print(f\"{len(cleaned_CCDC_torsions)}, {len(CCDC_torsions)}\")"
   ]
  },
  {
   "cell_type": "code",
   "execution_count": 115,
   "metadata": {},
   "outputs": [
    {
     "name": "stdout",
     "output_type": "stream",
     "text": [
      "7215, 18179\n"
     ]
    }
   ],
   "source": [
    "# clean up the CSD angle smiles\n",
    "cleaned_CCDC_angles = simplify_smiles(CCDC_angles)\n",
    "print(f\"{len(cleaned_CCDC_angles)}, {len(CCDC_angles)}\")"
   ]
  },
  {
   "cell_type": "code",
   "execution_count": 116,
   "metadata": {},
   "outputs": [
    {
     "name": "stdout",
     "output_type": "stream",
     "text": [
      "2114, 3849\n"
     ]
    }
   ],
   "source": [
    "# clean up the CSD bond smiles\n",
    "cleaned_CCDC_bonds = simplify_smiles(CCDC_bonds)\n",
    "print(f\"{len(cleaned_CCDC_bonds)}, {len(CCDC_bonds)}\")"
   ]
  },
  {
   "cell_type": "code",
   "execution_count": 117,
   "metadata": {},
   "outputs": [],
   "source": [
    "# all data from HCSD\n",
    "f = open(\"CCDCH_torsion.json\")\n",
    "HCSD_torsions = json.load(f)\n",
    "\n",
    "f = open(\"CCDCH_angles.json\")\n",
    "HCSD_angles = json.load(f)\n",
    "\n",
    "f = open(\"CCDCH_bonds.json\")\n",
    "HCSD_bonds = json.load(f)"
   ]
  },
  {
   "cell_type": "code",
   "execution_count": 118,
   "metadata": {},
   "outputs": [
    {
     "name": "stdout",
     "output_type": "stream",
     "text": [
      "4577, 6121\n"
     ]
    }
   ],
   "source": [
    "# clean up the H CSD torsion smiles\n",
    "cleaned_HCSD_torsions = simplify_smiles(HCSD_torsions)\n",
    "print(f\"{len(cleaned_HCSD_torsions)}, {len(HCSD_torsions)}\")"
   ]
  },
  {
   "cell_type": "code",
   "execution_count": 119,
   "metadata": {},
   "outputs": [
    {
     "name": "stdout",
     "output_type": "stream",
     "text": [
      "2060, 2750\n"
     ]
    }
   ],
   "source": [
    "# clean up the H CSD angle smiles\n",
    "cleaned_HCSD_angles = simplify_smiles(HCSD_angles)\n",
    "print(f\"{len(cleaned_HCSD_angles)}, {len(HCSD_angles)}\")"
   ]
  },
  {
   "cell_type": "code",
   "execution_count": 120,
   "metadata": {},
   "outputs": [
    {
     "name": "stdout",
     "output_type": "stream",
     "text": [
      "659, 856\n"
     ]
    }
   ],
   "source": [
    "# clean up the H CSD bond smiles\n",
    "cleaned_HCSD_bonds = simplify_smiles(HCSD_bonds)\n",
    "print(f\"{len(cleaned_HCSD_bonds)}, {len(HCSD_bonds)}\")"
   ]
  },
  {
   "cell_type": "code",
   "execution_count": 121,
   "metadata": {},
   "outputs": [],
   "source": [
    "# all data from MTD\n",
    "f = open(\"MTDtorsion.json\")\n",
    "MTD_torsions = json.load(f)\n",
    "\n",
    "f = open(\"MTDangle.json\")\n",
    "MTD_angles = json.load(f)\n",
    "\n",
    "f = open(\"MTDbond.json\")\n",
    "MTD_bonds = json.load(f)"
   ]
  },
  {
   "cell_type": "code",
   "execution_count": 122,
   "metadata": {},
   "outputs": [
    {
     "name": "stdout",
     "output_type": "stream",
     "text": [
      "63, 237\n"
     ]
    }
   ],
   "source": [
    "# clean up the MTD torsion smiles\n",
    "cleaned_MTD_torsions = simplify_smiles(MTD_torsions)\n",
    "print(f\"{len(cleaned_MTD_torsions)}, {len(MTD_torsions)}\")"
   ]
  },
  {
   "cell_type": "code",
   "execution_count": 123,
   "metadata": {},
   "outputs": [
    {
     "name": "stdout",
     "output_type": "stream",
     "text": [
      "37, 117\n"
     ]
    }
   ],
   "source": [
    "# clean up the MTD angle smiles\n",
    "cleaned_MTD_angles = simplify_smiles(MTD_angles)\n",
    "print(f\"{len(cleaned_MTD_angles)}, {len(MTD_angles)}\")"
   ]
  },
  {
   "cell_type": "code",
   "execution_count": 124,
   "metadata": {},
   "outputs": [
    {
     "name": "stdout",
     "output_type": "stream",
     "text": [
      "16, 49\n"
     ]
    }
   ],
   "source": [
    "# clean up the MTD bond smiles\n",
    "cleaned_MTD_bonds = simplify_smiles(MTD_bonds)\n",
    "print(f\"{len(cleaned_MTD_bonds)}, {len(MTD_bonds)}\")"
   ]
  },
  {
   "cell_type": "markdown",
   "metadata": {},
   "source": [
    "Select up to 4 atoms to get internal coordinates\n",
    "\n",
    "Use 2 atoms to get their bond length, 3 to get the angle and 4 to get the dihedral angle"
   ]
  },
  {
   "cell_type": "code",
   "execution_count": 129,
   "metadata": {},
   "outputs": [],
   "source": [
    "def adjust_string_for_special_cases(s, special_cases):\n",
    "    # Replace each special case with a single character (e.g., a marker)\n",
    "    for case in special_cases:\n",
    "        s = s.replace(case, \"X\")  # Assuming \"X\" does not appear in your string\n",
    "    return s\n",
    "\n",
    "def get_adjusted_length(s, special_cases):\n",
    "    adjusted_s = adjust_string_for_special_cases(s, special_cases)\n",
    "    return len(adjusted_s)\n",
    "\n",
    "def select_dictionaries(selected_atoms):\n",
    "    chosen_dict = {}\n",
    "    chosen_dict_own = {}\n",
    "\n",
    "    multi_letter_atoms = ['Cl', 'Br']\n",
    "\n",
    "    adjusted_length = get_adjusted_length(selected_atoms, multi_letter_atoms)\n",
    "\n",
    "    # Check the length of selected_atoms\n",
    "    if adjusted_length == 2:\n",
    "    # If selected_atoms is 2 atoms, use own_bonds\n",
    "        chosen_dict_own = cleaned_MTD_bonds\n",
    "    elif adjusted_length == 3:\n",
    "    # If selected_atoms is 3 atoms, use own_angles\n",
    "        chosen_dict_own = cleaned_MTD_angles\n",
    "    elif adjusted_length == 4:\n",
    "    # If selected_atoms is 4 atoms, use own_torsions\n",
    "        chosen_dict_own = cleaned_MTD_torsions\n",
    "    else:\n",
    "        print(\"Invalid number of atoms\")   \n",
    "    # Check if \"H\" is in selected_atoms\n",
    "    if \"H\" in selected_atoms:\n",
    "    # If \"H\" is in selected_atoms, use the dictionaries with \"H\"\n",
    "        if adjusted_length == 2:\n",
    "            chosen_dict = cleaned_HCSD_bonds\n",
    "        elif adjusted_length == 3:\n",
    "            chosen_dict = cleaned_HCSD_angles\n",
    "        elif adjusted_length == 4:\n",
    "            chosen_dict = cleaned_HCSD_torsions\n",
    "        else:\n",
    "            print(\"Invalid number of atoms\")\n",
    "    else:\n",
    "    # If \"H\" is not in selected_atoms, use the dictionaries without \"H\"\n",
    "        if adjusted_length == 2:\n",
    "            chosen_dict = cleaned_CCDC_bonds\n",
    "        elif adjusted_length == 3:\n",
    "            chosen_dict = cleaned_CCDC_angles\n",
    "        elif adjusted_length == 4:\n",
    "            chosen_dict = cleaned_CCDC_torsions\n",
    "        else:\n",
    "            print(\"Invalid number of atoms\")\n",
    "            \n",
    "\n",
    "    return chosen_dict, chosen_dict_own\n",
    "\n",
    "def draw_plot(selected_atoms, chosen_dict, chosen_dict_own ,fig, index):\n",
    "    # check the selected_atoms and its reverse in the dictionary\n",
    "    multi_letter_atoms = ['Cl', 'Br']\n",
    "    selected_atoms_list = []\n",
    "\n",
    "\n",
    "\n",
    "    # Function to reverse the order of atoms while keeping multi-letter atoms intact\n",
    "    def reverse_atoms(atoms):\n",
    "        result = []\n",
    "        i = 0\n",
    "        while i < len(atoms):\n",
    "            # Check if the current and next character form a multi-letter atom\n",
    "            if i + 1 < len(atoms) and atoms[i:i+2] in multi_letter_atoms:\n",
    "                result.insert(0, atoms[i:i+2])\n",
    "                i += 2\n",
    "            else:\n",
    "                result.insert(0, atoms[i])\n",
    "                i += 1\n",
    "        return ''.join(result)\n",
    "\n",
    "                # Parse selected_atoms to handle multi-letter atoms correctly\n",
    "    i = 0\n",
    "    while i < len(selected_atoms):\n",
    "        if i + 1 < len(selected_atoms) and selected_atoms[i:i+2] in multi_letter_atoms:\n",
    "            selected_atoms_list.append(selected_atoms[i:i+2])\n",
    "            i += 2\n",
    "        else:\n",
    "            selected_atoms_list.append(selected_atoms[i])\n",
    "            i += 1\n",
    "    \n",
    "    if selected_atoms not in chosen_dict_own and selected_atoms not in chosen_dict:\n",
    "        selected_atoms = reverse_atoms(selected_atoms)\n",
    "      \n",
    "    # rename lists for better differentiation\n",
    "    CCDC_data = chosen_dict.get(selected_atoms)\n",
    "    xyz_data = chosen_dict_own.get(selected_atoms)\n",
    "    \n",
    "    if CCDC_data is None or xyz_data is None:\n",
    "        print(f\"{selected_atoms} not found in database!\")\n",
    "        return\n",
    "\n",
    "    print(\"Internal Coordinates:\", selected_atoms)\n",
    "\n",
    "    # define counts and bins for CCDC and own data\n",
    "    counts, bins_CCDC_data = np.histogram(CCDC_data, bins=100, range=(min(CCDC_data*1.1), max(CCDC_data*1.1)))\n",
    "    counts_CCDC_data = counts / counts.max()\n",
    "\n",
    "    counts, bins_xyz_data = np.histogram(xyz_data, bins=bins_CCDC_data, range=(min(xyz_data*1.1), max(xyz_data*1.1)))\n",
    "    counts_xyz_data = counts / counts.max()\n",
    "\n",
    "    # define your labels\n",
    "    label_atoms = '-'.join(selected_atoms_list)\n",
    "    label_bonds = f\"{label_atoms} Bond Length / Å \"\n",
    "    label_angles = f\"{label_atoms} Angle / $\\degree$\"\n",
    "    label_dihedrals = f\"{label_atoms} Dihedral /$\\degree$\"\n",
    "    label_ybonds = r\"$n_{bond}$ / $n_{max}$\"\n",
    "    label_yangles = r\"$n_{angle}$ / $n_{max}$\"\n",
    "    label_ytorsion = r\"$n_{dihedral}$ / $n_{max}$\"\n",
    "\n",
    "    # choose the label based on the chosen dictionary\n",
    "    if chosen_dict_own is cleaned_MTD_bonds:\n",
    "        chosen_label_x = label_bonds.format(selected_atoms=selected_atoms)\n",
    "        chosen_label_y = label_ybonds\n",
    "    elif chosen_dict_own is cleaned_MTD_angles:\n",
    "        chosen_label_x = label_angles.format(selected_atoms=selected_atoms)\n",
    "        chosen_label_y = label_yangles\n",
    "    elif chosen_dict_own is cleaned_MTD_torsions:\n",
    "        chosen_label_x = label_dihedrals.format(selected_atoms=selected_atoms)\n",
    "        chosen_label_y = label_ytorsion\n",
    "    else:\n",
    "        print(\"Invalid dictionary\")\n",
    "\n",
    "    \n",
    "    # get bar plot normalized to 1\n",
    "    \n",
    "    axs = fig.add_subplot(2,2,index)\n",
    "    axs.bar(bins_CCDC_data[:-1], counts_CCDC_data, width=bins_CCDC_data[1]-bins_CCDC_data[0],color= \"skyblue\", edgecolor = \"black\", label=\"CSD Data\")\n",
    "    axs.bar(bins_xyz_data[:-1], counts_xyz_data, width=bins_xyz_data[1]-bins_xyz_data[0], color= \"pink\", edgecolor = \"black\", label=\"MTD Data\", alpha=0.5)\n",
    "    axs.legend(loc=\"upper right\")\n",
    "    axs.set_xlabel(chosen_label_x)\n",
    "    axs.set_ylabel(chosen_label_y)\n",
    "    axs.set_ylim(0,1.1)"
   ]
  },
  {
   "cell_type": "code",
   "execution_count": 130,
   "metadata": {},
   "outputs": [
    {
     "data": {
      "application/vnd.jupyter.widget-view+json": {
       "model_id": "49ed538c44614b1daa268ac1f012896a",
       "version_major": 2,
       "version_minor": 0
      },
      "text/plain": [
       "GridspecLayout(children=(Label(value='Atoms for Plot 1', layout=Layout(grid_area='widget001')), Dropdown(layou…"
      ]
     },
     "metadata": {},
     "output_type": "display_data"
    },
    {
     "data": {
      "application/vnd.jupyter.widget-view+json": {
       "model_id": "60296f05199d4994adf831de984df411",
       "version_major": 2,
       "version_minor": 0
      },
      "text/plain": [
       "Checkbox(value=False, description='Save Plots')"
      ]
     },
     "metadata": {},
     "output_type": "display_data"
    },
    {
     "data": {
      "application/vnd.jupyter.widget-view+json": {
       "model_id": "cde554c9fb07462bbb5e0cc7389e95de",
       "version_major": 2,
       "version_minor": 0
      },
      "text/plain": [
       "Output()"
      ]
     },
     "metadata": {},
     "output_type": "display_data"
    },
    {
     "data": {
      "application/vnd.jupyter.widget-view+json": {
       "model_id": "bdd260b3afef43e295d49d188e31122c",
       "version_major": 2,
       "version_minor": 0
      },
      "text/plain": [
       "Button(description='Start', style=ButtonStyle())"
      ]
     },
     "metadata": {},
     "output_type": "display_data"
    }
   ],
   "source": [
    "atoms = [\"-\", \"C\", \"H\", \"N\", \"S\", \"O\", \"P\", \"F\", \"Cl\", \"Br\", \"I\"]\n",
    "\n",
    "\n",
    "def on_clear_click(b):\n",
    "    for i in range(4):\n",
    "        if grid[i,grid.n_columns-1] is b:\n",
    "            for j in range(1, 5):\n",
    "                grid[i, j].value = \"-\"   \n",
    "                \n",
    "def on_button_click(b):\n",
    "    \n",
    "    b.description = \"Update\"\n",
    "    \n",
    "    coordinates1 = [grid[0,x+1].value for x in range(grid.n_columns-2)]\n",
    "    coordinates2 = [grid[1,x+1].value for x in range(grid.n_columns-2)]\n",
    "    coordinates3 = [grid[2,x+1].value for x in range(grid.n_columns-2)]\n",
    "    coordinates4 = [grid[3,x+1].value for x in range(grid.n_columns-2)]\n",
    "\n",
    "\n",
    "    coordinates1 = [\"\" if value == \"-\" else value for value in coordinates1]\n",
    "    selected_atoms1 = \"\".join(coordinates1)\n",
    "    coordinates2 = [\"\" if value == \"-\" else value for value in coordinates2]\n",
    "    selected_atoms2 = \"\".join(coordinates2)\n",
    "    coordinates3 = [\"\" if value == \"-\" else value for value in coordinates3]\n",
    "    selected_atoms3 = \"\".join(coordinates3)\n",
    "    coordinates4 = [\"\" if value == \"-\" else value for value in coordinates4]\n",
    "    selected_atoms4 = \"\".join(coordinates4)\n",
    "    \n",
    "    with output:\n",
    "        clear_output()\n",
    "        fig = plt.figure()\n",
    "        fig.tight_layout()\n",
    "        fig.set_figheight(10)\n",
    "        fig.set_figwidth(15)\n",
    "        if selected_atoms1 != \"\":\n",
    "            chosen_dict1, chosen_dict_own1 = select_dictionaries(selected_atoms1)\n",
    "            draw_plot(selected_atoms1, chosen_dict1, chosen_dict_own1 ,fig, 1)\n",
    "        if selected_atoms2 != \"\":\n",
    "            chosen_dict2, chosen_dict_own2 = select_dictionaries(selected_atoms2)\n",
    "            draw_plot(selected_atoms2, chosen_dict2, chosen_dict_own2, fig, 2)\n",
    "        if selected_atoms3 != \"\":\n",
    "            chosen_dict3, chosen_dict_own3 = select_dictionaries(selected_atoms3)\n",
    "            draw_plot(selected_atoms3, chosen_dict3, chosen_dict_own3, fig, 3)\n",
    "        if selected_atoms4 != \"\":\n",
    "            chosen_dict4, chosen_dict_own4 = select_dictionaries(selected_atoms4)\n",
    "            draw_plot(selected_atoms4, chosen_dict4, chosen_dict_own4, fig, 4)\n",
    "        plt.show()\n",
    "\n",
    "    if check.value:\n",
    "        # Collect non-empty selected atoms strings\n",
    "        selected_atoms = [selected_atoms1, selected_atoms2, selected_atoms3, selected_atoms4]\n",
    "        internal_coordinates = [atom for atom in selected_atoms if atom != \"\"]\n",
    "\n",
    "        # Use these strings to create a filename\n",
    "        safe_title = \"_\".join(internal_coordinates)  # create a safe title with only the internal coordinates\n",
    "        fig.savefig(f\"{safe_title}.pdf\", format=\"pdf\", transparent=True, bbox_inches='tight', pad_inches=0)  # save the plot with the title as the filename\n",
    "\n",
    "grid = GridspecLayout(4, 6, layout=Layout(width=\"700px\"))\n",
    "\n",
    "for i in range(4):\n",
    "    for j in range(6):\n",
    "        if j == 0:\n",
    "            grid[i, j] = Label(f\"Atoms for Plot {i+1}\")\n",
    "        elif j == 5:\n",
    "            clear_button = Button(description=\"Clear\", layout=Layout(width=\"100px\"))\n",
    "            clear_button.on_click(on_clear_click)\n",
    "            grid[i, j] = clear_button\n",
    "        else:\n",
    "            grid[i, j] = Dropdown(options=atoms, layout=Layout(width=\"100px\"))\n",
    "    \n",
    "\n",
    "display(grid)\n",
    "\n",
    "check = Checkbox(value=False, description=\"Save Plots\") # checkbox to save the plot\n",
    "display(check)\n",
    "\n",
    "output = Output()\n",
    "display(output)\n",
    "     \n",
    "button = Button(description='Start')\n",
    "button.on_click(on_button_click)\n",
    "display(button)"
   ]
  }
 ],
 "metadata": {
  "kernelspec": {
   "display_name": ".venv",
   "language": "python",
   "name": "python3"
  },
  "language_info": {
   "codemirror_mode": {
    "name": "ipython",
    "version": 3
   },
   "file_extension": ".py",
   "mimetype": "text/x-python",
   "name": "python",
   "nbconvert_exporter": "python",
   "pygments_lexer": "ipython3",
   "version": "3.9.19"
  }
 },
 "nbformat": 4,
 "nbformat_minor": 2
}

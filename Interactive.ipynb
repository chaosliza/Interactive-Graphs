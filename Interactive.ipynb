{
 "cells": [
  {
   "cell_type": "code",
   "execution_count": 3,
   "metadata": {},
   "outputs": [],
   "source": [
    "import matplotlib.pyplot as plt\n",
    "import numpy as np\n",
    "import ipywidgets as widgets\n",
    "from ipywidgets import Layout, Dropdown, Button, Output, Checkbox, Label\n",
    "from IPython.display import display, clear_output\n",
    "from __future__ import print_function\n",
    "import json\n",
    "from IPython.display import display\n",
    "from tools import simplify_smiles\n",
    "from tools import load_hdf5_to_dict\n",
    "from ipywidgets import GridspecLayout"
   ]
  },
  {
   "cell_type": "code",
   "execution_count": 4,
   "metadata": {},
   "outputs": [],
   "source": [
    "# all data from CCDC\n",
    "f = open(\"new_struct2torsion.json\")\n",
    "CCDC_torsions = json.load(f)\n",
    "\n",
    "f = open(\"new_struct2angle.json\")\n",
    "CCDC_angles = json.load(f)\n",
    "\n",
    "f = open(\"new_struct2bond.json\")\n",
    "CCDC_bonds = json.load(f)"
   ]
  },
  {
   "cell_type": "code",
   "execution_count": 5,
   "metadata": {},
   "outputs": [
    {
     "name": "stdout",
     "output_type": "stream",
     "text": [
      "14642, 56316\n"
     ]
    }
   ],
   "source": [
    "# clean up the CCDC torsion smiles\n",
    "cleaned_CCDC_torsions = simplify_smiles(CCDC_torsions)\n",
    "print(f\"{len(cleaned_CCDC_torsions)}, {len(CCDC_torsions)}\")"
   ]
  },
  {
   "cell_type": "code",
   "execution_count": 6,
   "metadata": {},
   "outputs": [
    {
     "name": "stdout",
     "output_type": "stream",
     "text": [
      "7215, 18179\n"
     ]
    }
   ],
   "source": [
    "# clean up the CCDC angle smiles\n",
    "cleaned_CCDC_angles = simplify_smiles(CCDC_angles)\n",
    "print(f\"{len(cleaned_CCDC_angles)}, {len(CCDC_angles)}\")"
   ]
  },
  {
   "cell_type": "code",
   "execution_count": 7,
   "metadata": {},
   "outputs": [
    {
     "name": "stdout",
     "output_type": "stream",
     "text": [
      "2114, 3849\n"
     ]
    }
   ],
   "source": [
    "# clean up the CCDC bond smiles\n",
    "cleaned_CCDC_bonds = simplify_smiles(CCDC_bonds)\n",
    "print(f\"{len(cleaned_CCDC_bonds)}, {len(CCDC_bonds)}\")"
   ]
  },
  {
   "cell_type": "code",
   "execution_count": 8,
   "metadata": {},
   "outputs": [],
   "source": [
    "# # Clean up CSD torsions from hdf5\n",
    "# CCDC_torsions = load_hdf5_to_dict('ccdc_torsion.hdf5')\n",
    "# cleaned_CCDC_torsions = simplify_smiles(CCDC_torsions)\n",
    "# print(f\"{len(cleaned_CCDC_torsions)}, {len(CCDC_torsions)}\")"
   ]
  },
  {
   "cell_type": "code",
   "execution_count": 9,
   "metadata": {},
   "outputs": [],
   "source": [
    "# # Clean up CSD angles from hdf5\n",
    "# CCDC_angles = load_hdf5_to_dict('full_ccdc_angle.hdf5')\n",
    "# cleaned_CCDC_angles = simplify_smiles(CCDC_angles)\n",
    "# print(f\"{len(cleaned_CCDC_angles)}, {len(CCDC_angles)}\")"
   ]
  },
  {
   "cell_type": "code",
   "execution_count": 10,
   "metadata": {},
   "outputs": [],
   "source": [
    "# # Clean up CSD bonds from hdf5\n",
    "# CCDC_bonds = load_hdf5_to_dict('full_ccdc_bond.hdf5')\n",
    "# cleaned_CCDC_bonds = simplify_smiles(CCDC_bonds)\n",
    "# print(f\"{len(cleaned_CCDC_bonds)}, {len(CCDC_bonds)}\")"
   ]
  },
  {
   "cell_type": "code",
   "execution_count": 11,
   "metadata": {},
   "outputs": [
    {
     "name": "stdout",
     "output_type": "stream",
     "text": [
      "4577, 6121\n"
     ]
    }
   ],
   "source": [
    "# Clean up CSD-H torsions from hdf5\n",
    "H_torsions = load_hdf5_to_dict('H_torsion.hdf5')\n",
    "cleaned_CCDC_H_torsions = simplify_smiles(H_torsions)\n",
    "print(f\"{len(cleaned_CCDC_H_torsions)}, {len(H_torsions)}\")"
   ]
  },
  {
   "cell_type": "code",
   "execution_count": 12,
   "metadata": {},
   "outputs": [
    {
     "name": "stdout",
     "output_type": "stream",
     "text": [
      "2060, 2750\n"
     ]
    }
   ],
   "source": [
    "# Clean up CSD-H angles from hdf5\n",
    "H_angles = load_hdf5_to_dict('H_angle.hdf5')\n",
    "cleaned_CCDC_H_angles = simplify_smiles(H_angles)\n",
    "print(f\"{len(cleaned_CCDC_H_angles)}, {len(H_angles)}\")"
   ]
  },
  {
   "cell_type": "code",
   "execution_count": 13,
   "metadata": {},
   "outputs": [
    {
     "name": "stdout",
     "output_type": "stream",
     "text": [
      "659, 856\n"
     ]
    }
   ],
   "source": [
    "# Clean up CSD-H bonds from hdf5\n",
    "H_bonds = load_hdf5_to_dict('H_bond.hdf5')\n",
    "cleaned_CCDC_H_bonds = simplify_smiles(H_bonds)\n",
    "print(f\"{len(cleaned_CCDC_H_bonds)}, {len(H_bonds)}\")"
   ]
  },
  {
   "cell_type": "code",
   "execution_count": 14,
   "metadata": {},
   "outputs": [],
   "source": [
    "# Clean up own torsions from hdf5\n",
    "# own_torsions = load_hdf5_to_dict('owntorsion.hdf5')\n",
    "# cleaned_own_torsions = simplify_smiles(own_torsions)\n",
    "# print(f\"{len(cleaned_own_torsions)}, {len(own_torsions)}\")"
   ]
  },
  {
   "cell_type": "code",
   "execution_count": 15,
   "metadata": {},
   "outputs": [],
   "source": [
    "# Clean up own angles from hdf5\n",
    "# own_angles = load_hdf5_to_dict('ownangles.hdf5')\n",
    "# cleaned_own_angles = simplify_smiles(own_angles)\n",
    "# print(f\"{len(cleaned_own_angles)}, {len(own_angles)}\")"
   ]
  },
  {
   "cell_type": "code",
   "execution_count": 16,
   "metadata": {},
   "outputs": [],
   "source": [
    "# Clean up own bonds from hdf5\n",
    "# own_bonds = load_hdf5_to_dict('ownbonds.hdf5')\n",
    "# cleaned_own_bonds = simplify_smiles(own_bonds)\n",
    "# print(f\"{len(cleaned_own_bonds)}, {len(own_bonds)}\")"
   ]
  },
  {
   "cell_type": "code",
   "execution_count": 17,
   "metadata": {},
   "outputs": [],
   "source": [
    "# all own data\n",
    "f = open(\"owntorsion.json\")\n",
    "own_torsions = json.load(f)\n",
    "\n",
    "f = open(\"ownangle.json\")\n",
    "own_angles = json.load(f)\n",
    "\n",
    "f = open(\"ownbond.json\")\n",
    "own_bonds = json.load(f)"
   ]
  },
  {
   "cell_type": "code",
   "execution_count": 18,
   "metadata": {},
   "outputs": [
    {
     "name": "stdout",
     "output_type": "stream",
     "text": [
      "46, 255\n"
     ]
    }
   ],
   "source": [
    "# clean up the own torsion smiles\n",
    "cleaned_own_torsions = simplify_smiles(own_torsions)\n",
    "print(f\"{len(cleaned_own_torsions)}, {len(own_torsions)}\")"
   ]
  },
  {
   "cell_type": "code",
   "execution_count": 19,
   "metadata": {},
   "outputs": [
    {
     "name": "stdout",
     "output_type": "stream",
     "text": [
      "24, 118\n"
     ]
    }
   ],
   "source": [
    "# clean up the own angle smiles\n",
    "cleaned_own_angles = simplify_smiles(own_angles)\n",
    "print(f\"{len(cleaned_own_angles)}, {len(own_angles)}\")"
   ]
  },
  {
   "cell_type": "code",
   "execution_count": 20,
   "metadata": {},
   "outputs": [
    {
     "name": "stdout",
     "output_type": "stream",
     "text": [
      "12, 45\n"
     ]
    }
   ],
   "source": [
    "# clean up the own bond smiles\n",
    "cleaned_own_bonds = simplify_smiles(own_bonds)\n",
    "print(f\"{len(cleaned_own_bonds)}, {len(own_bonds)}\")"
   ]
  },
  {
   "cell_type": "markdown",
   "metadata": {},
   "source": [
    "Select up to 4 atoms to get internal coordinates\n",
    "\n",
    "Use 2 atoms to get their bond length, 3 to get the angle and 4 to get the dihedral angle"
   ]
  },
  {
   "cell_type": "code",
   "execution_count": 21,
   "metadata": {},
   "outputs": [],
   "source": [
    "def adjust_string_for_special_cases(s, special_cases):\n",
    "    # Replace each special case with a single character (e.g., a marker)\n",
    "    for case in special_cases:\n",
    "        s = s.replace(case, \"X\")  # Assuming \"X\" does not appear in your string\n",
    "    return s\n",
    "\n",
    "def get_adjusted_length(s, special_cases):\n",
    "    adjusted_s = adjust_string_for_special_cases(s, special_cases)\n",
    "    return len(adjusted_s)\n",
    "\n",
    "def select_dictionaries(selected_atoms):\n",
    "    chosen_dict = {}\n",
    "    chosen_dict_own = {}\n",
    "\n",
    "    multi_letter_atoms = ['Cl', 'Br']\n",
    "\n",
    "    adjusted_length = get_adjusted_length(selected_atoms, multi_letter_atoms)\n",
    "\n",
    "    # Check the length of selected_atoms\n",
    "    if adjusted_length == 2:\n",
    "    # If selected_atoms is 2 atoms, use own_bonds\n",
    "        chosen_dict_own = cleaned_own_bonds\n",
    "    elif adjusted_length == 3:\n",
    "    # If selected_atoms is 3 atoms, use own_angles\n",
    "        chosen_dict_own = cleaned_own_angles\n",
    "    elif adjusted_length == 4:\n",
    "    # If selected_atoms is 4 atoms, use own_torsions\n",
    "        chosen_dict_own = cleaned_own_torsions\n",
    "    else:\n",
    "        print(\"Invalid number of atoms\")   \n",
    "    # Check if \"H\" is in selected_atoms\n",
    "    if \"H\" in selected_atoms:\n",
    "    # If \"H\" is in selected_atoms, use the dictionaries with \"H\"\n",
    "        if adjusted_length == 2:\n",
    "            chosen_dict = cleaned_CCDC_H_bonds\n",
    "        elif adjusted_length == 3:\n",
    "            chosen_dict = cleaned_CCDC_H_angles\n",
    "        elif adjusted_length == 4:\n",
    "            chosen_dict = cleaned_CCDC_H_torsions\n",
    "        else:\n",
    "            print(\"Invalid number of atoms\")\n",
    "    else:\n",
    "    # If \"H\" is not in selected_atoms, use the dictionaries without \"H\"\n",
    "        if adjusted_length == 2:\n",
    "            chosen_dict = cleaned_CCDC_bonds\n",
    "        elif adjusted_length == 3:\n",
    "            chosen_dict = cleaned_CCDC_angles\n",
    "        elif adjusted_length == 4:\n",
    "            chosen_dict = cleaned_CCDC_torsions\n",
    "        else:\n",
    "            print(\"Invalid number of atoms\")\n",
    "            \n",
    "\n",
    "    return chosen_dict, chosen_dict_own\n",
    "    \n",
    "def draw_plot(selected_atoms, chosen_dict, chosen_dict_own ,fig, index):\n",
    "    # check the selected_atoms and its reverse in the dictionary\n",
    "    multi_letter_atoms = ['Cl', 'Br']\n",
    "\n",
    "    # Function to reverse the order of atoms while keeping multi-letter atoms intact\n",
    "    def reverse_atoms(atoms):\n",
    "        result = []\n",
    "        i = 0\n",
    "        while i < len(atoms):\n",
    "            # Check if the current and next character form a multi-letter atom\n",
    "            if i + 1 < len(atoms) and atoms[i:i+2] in multi_letter_atoms:\n",
    "                result.insert(0, atoms[i:i+2])\n",
    "                i += 2\n",
    "            else:\n",
    "                result.insert(0, atoms[i])\n",
    "                i += 1\n",
    "        return ''.join(result)\n",
    "    \n",
    "    \n",
    "    if selected_atoms not in chosen_dict_own and selected_atoms not in chosen_dict:\n",
    "        selected_atoms = reverse_atoms(selected_atoms)\n",
    "      \n",
    "    # rename lists for better differentiation\n",
    "    CCDC_data = chosen_dict.get(selected_atoms)\n",
    "    xyz_data = chosen_dict_own.get(selected_atoms)\n",
    "    \n",
    "    if CCDC_data is None or xyz_data is None:\n",
    "        print(f\"{selected_atoms} not found in database!\")\n",
    "        return\n",
    "\n",
    "    print(\"Internal Coordinates:\", selected_atoms)\n",
    "\n",
    "    # define counts and bins for CCDC and own data\n",
    "    counts, bins_CCDC_data = np.histogram(CCDC_data, bins=100, range=(min(CCDC_data*1.1), max(CCDC_data*1.1)))\n",
    "    counts_CCDC_data = counts / counts.max()\n",
    "\n",
    "    counts, bins_xyz_data = np.histogram(xyz_data, bins=bins_CCDC_data, range=(min(xyz_data*1.1), max(xyz_data*1.1)))\n",
    "    counts_xyz_data = counts / counts.max()\n",
    "\n",
    "    # define your labels\n",
    "    label_bonds = r\"{selected_atoms} Bond Length / Å \"\n",
    "    label_angles = r\"{selected_atoms} Angle / $\\degree$\"\n",
    "    label_dihedrals = r\"{selected_atoms} Dihedral /$\\degree$\"\n",
    "    label_ybonds = r\"$n_{bond}$ / $n_{max}$\"\n",
    "    label_yangles = r\"$n_{angle}$ / $n_{max}$\"\n",
    "    label_ytorsion = r\"$n_{dihedral}$ / $n_{max}$\"\n",
    "    title = f\"{selected_atoms} Distribution\"\n",
    "\n",
    "    # choose the label based on the chosen dictionary\n",
    "    if chosen_dict_own is cleaned_own_bonds:\n",
    "        chosen_label_x = label_bonds.format(selected_atoms=selected_atoms)\n",
    "        chosen_label_y = label_ybonds\n",
    "    elif chosen_dict_own is cleaned_own_angles:\n",
    "        chosen_label_x = label_angles.format(selected_atoms=selected_atoms)\n",
    "        chosen_label_y = label_yangles\n",
    "    elif chosen_dict_own is cleaned_own_torsions:\n",
    "        chosen_label_x = label_dihedrals.format(selected_atoms=selected_atoms)\n",
    "        chosen_label_y = label_ytorsion\n",
    "    else:\n",
    "        print(\"Invalid dictionary\")\n",
    "\n",
    "    \n",
    "    # get bar plot normalized to 1\n",
    "    \n",
    "    axs = fig.add_subplot(2,2,index)\n",
    "    axs.bar(bins_CCDC_data[:-1], counts_CCDC_data, width=bins_CCDC_data[1]-bins_CCDC_data[0],color= \"skyblue\", edgecolor = \"black\", label=\"CCDC\")\n",
    "    axs.bar(bins_xyz_data[:-1], counts_xyz_data, width=bins_xyz_data[1]-bins_xyz_data[0], color= \"pink\", edgecolor = \"black\", label=\"Data\", alpha=0.5)\n",
    "    axs.legend(loc=\"upper left\")\n",
    "    axs.set_xlabel(chosen_label_x)\n",
    "    axs.set_ylabel(chosen_label_y)\n",
    "    axs.set_title(title)\n",
    "    axs.set_ylim(0,1.1)"
   ]
  },
  {
   "cell_type": "code",
   "execution_count": 22,
   "metadata": {},
   "outputs": [
    {
     "data": {
      "application/vnd.jupyter.widget-view+json": {
       "model_id": "0cb47814ebf24e9c901f5700e86102e9",
       "version_major": 2,
       "version_minor": 0
      },
      "text/plain": [
       "GridspecLayout(children=(Label(value='Atoms for Plot 1', layout=Layout(grid_area='widget001')), Dropdown(layou…"
      ]
     },
     "metadata": {},
     "output_type": "display_data"
    },
    {
     "data": {
      "application/vnd.jupyter.widget-view+json": {
       "model_id": "fbd3b86a91ee42f5852e45aee5f388c5",
       "version_major": 2,
       "version_minor": 0
      },
      "text/plain": [
       "Checkbox(value=False, description='Save Plots')"
      ]
     },
     "metadata": {},
     "output_type": "display_data"
    },
    {
     "data": {
      "application/vnd.jupyter.widget-view+json": {
       "model_id": "f5953548780244449b8dc97f6f091a5b",
       "version_major": 2,
       "version_minor": 0
      },
      "text/plain": [
       "Output()"
      ]
     },
     "metadata": {},
     "output_type": "display_data"
    },
    {
     "data": {
      "application/vnd.jupyter.widget-view+json": {
       "model_id": "c8f9c61b9532426bb7492ccef600f563",
       "version_major": 2,
       "version_minor": 0
      },
      "text/plain": [
       "Button(description='Start', style=ButtonStyle())"
      ]
     },
     "metadata": {},
     "output_type": "display_data"
    }
   ],
   "source": [
    "atoms = [\"-\", \"C\", \"H\", \"N\", \"S\", \"O\", \"P\", \"F\", \"Cl\", \"Br\", \"I\"]\n",
    "\n",
    "def on_clear_click(b):\n",
    "    for i in range(4):\n",
    "        if grid[i,grid.n_columns-1] is b:\n",
    "            for j in range(1, 5):\n",
    "                grid[i, j].value = \"-\"   \n",
    "                \n",
    "def on_button_click(b):\n",
    "    \n",
    "    b.description = \"Update\"\n",
    "    \n",
    "    coordinates1 = [grid[0,x+1].value for x in range(grid.n_columns-2)]\n",
    "    coordinates2 = [grid[1,x+1].value for x in range(grid.n_columns-2)]\n",
    "    coordinates3 = [grid[2,x+1].value for x in range(grid.n_columns-2)]\n",
    "    coordinates4 = [grid[3,x+1].value for x in range(grid.n_columns-2)]\n",
    "\n",
    "    coordinates1 = [\"\" if value == \"-\" else value for value in coordinates1]\n",
    "    selected_atoms1 = \"\".join(coordinates1)\n",
    "    coordinates2 = [\"\" if value == \"-\" else value for value in coordinates2]\n",
    "    selected_atoms2 = \"\".join(coordinates2)\n",
    "    coordinates3 = [\"\" if value == \"-\" else value for value in coordinates3]\n",
    "    selected_atoms3 = \"\".join(coordinates3)\n",
    "    coordinates4 = [\"\" if value == \"-\" else value for value in coordinates4]\n",
    "    selected_atoms4 = \"\".join(coordinates4)\n",
    "    \n",
    "    with output:\n",
    "        clear_output()\n",
    "        fig = plt.figure()\n",
    "        fig.set_figheight(10)\n",
    "        fig.set_figwidth(15)\n",
    "        if selected_atoms1 != \"\":\n",
    "            chosen_dict1, chosen_dict_own1 = select_dictionaries(selected_atoms1)\n",
    "            draw_plot(selected_atoms1, chosen_dict1, chosen_dict_own1 ,fig, 1)\n",
    "        if selected_atoms2 != \"\":\n",
    "            chosen_dict2, chosen_dict_own2 = select_dictionaries(selected_atoms2)\n",
    "            draw_plot(selected_atoms2, chosen_dict2, chosen_dict_own2, fig, 2)\n",
    "        if selected_atoms3 != \"\":\n",
    "            chosen_dict3, chosen_dict_own3 = select_dictionaries(selected_atoms3)\n",
    "            draw_plot(selected_atoms3, chosen_dict3, chosen_dict_own3, fig, 3)\n",
    "        if selected_atoms4 != \"\":\n",
    "            chosen_dict4, chosen_dict_own4 = select_dictionaries(selected_atoms4)\n",
    "            draw_plot(selected_atoms4, chosen_dict4, chosen_dict_own4, fig, 4)\n",
    "        plt.show()\n",
    "    \n",
    "    if check.value:\n",
    "        internal_coordinates = []\n",
    "        for ax in fig.axes:\n",
    "            title = ax.get_title()  # get subplot title\n",
    "            title_atoms = title.split(' Distribution')[0]  # get the atoms at the start of the title\n",
    "            internal_coordinates.append(title_atoms)  # add the entire string of atoms to internal_coordinates\n",
    "\n",
    "        safe_title = \"_\".join(internal_coordinates)  # create a safe title with only the internal coordinates\n",
    "        fig.savefig(f\"{safe_title}.png\")  # save the plot with the title as the filename\n",
    "\n",
    "grid = GridspecLayout(4, 6, layout=Layout(width=\"700px\"))\n",
    "\n",
    "for i in range(4):\n",
    "    for j in range(6):\n",
    "        if j == 0:\n",
    "            grid[i, j] = Label(f\"Atoms for Plot {i+1}\")\n",
    "        elif j == 5:\n",
    "            clear_button = Button(description=\"Clear\", layout=Layout(width=\"100px\"))\n",
    "            clear_button.on_click(on_clear_click)\n",
    "            grid[i, j] = clear_button\n",
    "        else:\n",
    "            grid[i, j] = Dropdown(options=atoms, layout=Layout(width=\"100px\"))\n",
    "    \n",
    "\n",
    "display(grid)\n",
    "\n",
    "check = Checkbox(value=False, description=\"Save Plots\") # checkbox to save the plot\n",
    "display(check)\n",
    "\n",
    "output = Output()\n",
    "display(output)\n",
    "     \n",
    "button = Button(description='Start')\n",
    "button.on_click(on_button_click)\n",
    "display(button)"
   ]
  }
 ],
 "metadata": {
  "kernelspec": {
   "display_name": ".venv",
   "language": "python",
   "name": "python3"
  },
  "language_info": {
   "codemirror_mode": {
    "name": "ipython",
    "version": 3
   },
   "file_extension": ".py",
   "mimetype": "text/x-python",
   "name": "python",
   "nbconvert_exporter": "python",
   "pygments_lexer": "ipython3",
   "version": "3.9.19"
  }
 },
 "nbformat": 4,
 "nbformat_minor": 2
}
